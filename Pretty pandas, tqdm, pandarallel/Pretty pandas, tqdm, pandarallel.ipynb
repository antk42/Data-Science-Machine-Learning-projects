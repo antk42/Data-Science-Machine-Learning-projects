{
 "cells": [
  {
   "cell_type": "markdown",
   "id": "a63970d2-bf78-4e3a-93c2-e5750ece7e4b",
   "metadata": {},
   "source": [
    "# Pretty pandas, tqdm, pandarallel"
   ]
  },
  {
   "cell_type": "markdown",
   "id": "6f3617c8-669a-4b31-9b81-c27ab9aa32d1",
   "metadata": {},
   "source": [
    "### Несколько полезных настроек интерфейса `Pandas`, которые чаще всего пригождаются в работе."
   ]
  },
  {
   "cell_type": "code",
   "execution_count": 1,
   "id": "8b81e410-cb1d-45a5-8597-d40f4a753f38",
   "metadata": {},
   "outputs": [],
   "source": [
    "import pandas as pd"
   ]
  },
  {
   "cell_type": "code",
   "execution_count": 5,
   "id": "5c1f6e77-fe20-4e96-8601-1cc3a46adab3",
   "metadata": {},
   "outputs": [],
   "source": [
    "rides_info = pd.read_csv('rides_info.csv')\n",
    "car_train = pd.read_csv('car_train.csv')"
   ]
  },
  {
   "cell_type": "code",
   "execution_count": 6,
   "id": "93d33d99-893f-4a71-b0b2-3e234f2c2aad",
   "metadata": {},
   "outputs": [
    {
     "data": {
      "text/html": [
       "<div>\n",
       "<style scoped>\n",
       "    .dataframe tbody tr th:only-of-type {\n",
       "        vertical-align: middle;\n",
       "    }\n",
       "\n",
       "    .dataframe tbody tr th {\n",
       "        vertical-align: top;\n",
       "    }\n",
       "\n",
       "    .dataframe thead th {\n",
       "        text-align: right;\n",
       "    }\n",
       "</style>\n",
       "<table border=\"1\" class=\"dataframe\">\n",
       "  <thead>\n",
       "    <tr style=\"text-align: right;\">\n",
       "      <th></th>\n",
       "      <th>user_id</th>\n",
       "      <th>car_id</th>\n",
       "      <th>ride_id</th>\n",
       "      <th>ride_date</th>\n",
       "      <th>rating</th>\n",
       "      <th>ride_duration</th>\n",
       "      <th>ride_cost</th>\n",
       "      <th>speed_avg</th>\n",
       "      <th>speed_max</th>\n",
       "      <th>stop_times</th>\n",
       "      <th>distance</th>\n",
       "      <th>refueling</th>\n",
       "      <th>user_ride_quality</th>\n",
       "      <th>deviation_normal</th>\n",
       "    </tr>\n",
       "  </thead>\n",
       "  <tbody>\n",
       "    <tr>\n",
       "      <th>0</th>\n",
       "      <td>o52317055h</td>\n",
       "      <td>A-1049127W</td>\n",
       "      <td>b1v</td>\n",
       "      <td>2020-01-01</td>\n",
       "      <td>4.95</td>\n",
       "      <td>21</td>\n",
       "      <td>268</td>\n",
       "      <td>36</td>\n",
       "      <td>113.548538</td>\n",
       "      <td>0</td>\n",
       "      <td>514.246920</td>\n",
       "      <td>0</td>\n",
       "      <td>1.115260</td>\n",
       "      <td>2.909</td>\n",
       "    </tr>\n",
       "    <tr>\n",
       "      <th>1</th>\n",
       "      <td>H41298704y</td>\n",
       "      <td>A-1049127W</td>\n",
       "      <td>T1U</td>\n",
       "      <td>2020-01-01</td>\n",
       "      <td>6.91</td>\n",
       "      <td>8</td>\n",
       "      <td>59</td>\n",
       "      <td>36</td>\n",
       "      <td>93.000000</td>\n",
       "      <td>1</td>\n",
       "      <td>197.520662</td>\n",
       "      <td>0</td>\n",
       "      <td>1.650465</td>\n",
       "      <td>4.133</td>\n",
       "    </tr>\n",
       "    <tr>\n",
       "      <th>2</th>\n",
       "      <td>v88009926E</td>\n",
       "      <td>A-1049127W</td>\n",
       "      <td>g1p</td>\n",
       "      <td>2020-01-02</td>\n",
       "      <td>6.01</td>\n",
       "      <td>20</td>\n",
       "      <td>315</td>\n",
       "      <td>61</td>\n",
       "      <td>81.959675</td>\n",
       "      <td>0</td>\n",
       "      <td>1276.328206</td>\n",
       "      <td>0</td>\n",
       "      <td>2.599112</td>\n",
       "      <td>2.461</td>\n",
       "    </tr>\n",
       "    <tr>\n",
       "      <th>3</th>\n",
       "      <td>t14229455i</td>\n",
       "      <td>A-1049127W</td>\n",
       "      <td>S1c</td>\n",
       "      <td>2020-01-02</td>\n",
       "      <td>0.26</td>\n",
       "      <td>19</td>\n",
       "      <td>205</td>\n",
       "      <td>32</td>\n",
       "      <td>128.000000</td>\n",
       "      <td>0</td>\n",
       "      <td>535.680831</td>\n",
       "      <td>0</td>\n",
       "      <td>3.216255</td>\n",
       "      <td>0.909</td>\n",
       "    </tr>\n",
       "    <tr>\n",
       "      <th>4</th>\n",
       "      <td>W17067612E</td>\n",
       "      <td>A-1049127W</td>\n",
       "      <td>X1b</td>\n",
       "      <td>2020-01-03</td>\n",
       "      <td>1.21</td>\n",
       "      <td>56</td>\n",
       "      <td>554</td>\n",
       "      <td>38</td>\n",
       "      <td>90.000000</td>\n",
       "      <td>1</td>\n",
       "      <td>1729.143367</td>\n",
       "      <td>0</td>\n",
       "      <td>2.716550</td>\n",
       "      <td>-1.822</td>\n",
       "    </tr>\n",
       "    <tr>\n",
       "      <th>...</th>\n",
       "      <td>...</td>\n",
       "      <td>...</td>\n",
       "      <td>...</td>\n",
       "      <td>...</td>\n",
       "      <td>...</td>\n",
       "      <td>...</td>\n",
       "      <td>...</td>\n",
       "      <td>...</td>\n",
       "      <td>...</td>\n",
       "      <td>...</td>\n",
       "      <td>...</td>\n",
       "      <td>...</td>\n",
       "      <td>...</td>\n",
       "      <td>...</td>\n",
       "    </tr>\n",
       "    <tr>\n",
       "      <th>739495</th>\n",
       "      <td>I15732675M</td>\n",
       "      <td>z91796444U</td>\n",
       "      <td>m1z</td>\n",
       "      <td>2020-03-30</td>\n",
       "      <td>7.42</td>\n",
       "      <td>164</td>\n",
       "      <td>2290</td>\n",
       "      <td>49</td>\n",
       "      <td>54.586302</td>\n",
       "      <td>0</td>\n",
       "      <td>2274.772387</td>\n",
       "      <td>0</td>\n",
       "      <td>6.137593</td>\n",
       "      <td>-39.752</td>\n",
       "    </tr>\n",
       "    <tr>\n",
       "      <th>739496</th>\n",
       "      <td>r51579957X</td>\n",
       "      <td>z91796444U</td>\n",
       "      <td>t1P</td>\n",
       "      <td>2020-03-30</td>\n",
       "      <td>4.19</td>\n",
       "      <td>26</td>\n",
       "      <td>412</td>\n",
       "      <td>46</td>\n",
       "      <td>73.000000</td>\n",
       "      <td>0</td>\n",
       "      <td>515.580231</td>\n",
       "      <td>0</td>\n",
       "      <td>6.703367</td>\n",
       "      <td>-38.480</td>\n",
       "    </tr>\n",
       "    <tr>\n",
       "      <th>739497</th>\n",
       "      <td>l15212727I</td>\n",
       "      <td>z91796444U</td>\n",
       "      <td>z1A</td>\n",
       "      <td>2020-03-31</td>\n",
       "      <td>3.40</td>\n",
       "      <td>23</td>\n",
       "      <td>178</td>\n",
       "      <td>37</td>\n",
       "      <td>71.000000</td>\n",
       "      <td>1</td>\n",
       "      <td>444.846677</td>\n",
       "      <td>0</td>\n",
       "      <td>6.255344</td>\n",
       "      <td>-45.080</td>\n",
       "    </tr>\n",
       "    <tr>\n",
       "      <th>739498</th>\n",
       "      <td>Z78949958q</td>\n",
       "      <td>z91796444U</td>\n",
       "      <td>w1R</td>\n",
       "      <td>2020-04-01</td>\n",
       "      <td>9.02</td>\n",
       "      <td>5</td>\n",
       "      <td>75</td>\n",
       "      <td>48</td>\n",
       "      <td>87.000000</td>\n",
       "      <td>1</td>\n",
       "      <td>179.464361</td>\n",
       "      <td>0</td>\n",
       "      <td>7.759949</td>\n",
       "      <td>-60.193</td>\n",
       "    </tr>\n",
       "    <tr>\n",
       "      <th>739499</th>\n",
       "      <td>T14594979g</td>\n",
       "      <td>z91796444U</td>\n",
       "      <td>k1R</td>\n",
       "      <td>2020-04-01</td>\n",
       "      <td>5.96</td>\n",
       "      <td>29</td>\n",
       "      <td>344</td>\n",
       "      <td>45</td>\n",
       "      <td>55.000000</td>\n",
       "      <td>2</td>\n",
       "      <td>1140.454305</td>\n",
       "      <td>0</td>\n",
       "      <td>NaN</td>\n",
       "      <td>-50.835</td>\n",
       "    </tr>\n",
       "  </tbody>\n",
       "</table>\n",
       "<p>739500 rows × 14 columns</p>\n",
       "</div>"
      ],
      "text/plain": [
       "           user_id      car_id ride_id   ride_date  rating  ride_duration  \\\n",
       "0       o52317055h  A-1049127W     b1v  2020-01-01    4.95             21   \n",
       "1       H41298704y  A-1049127W     T1U  2020-01-01    6.91              8   \n",
       "2       v88009926E  A-1049127W     g1p  2020-01-02    6.01             20   \n",
       "3       t14229455i  A-1049127W     S1c  2020-01-02    0.26             19   \n",
       "4       W17067612E  A-1049127W     X1b  2020-01-03    1.21             56   \n",
       "...            ...         ...     ...         ...     ...            ...   \n",
       "739495  I15732675M  z91796444U     m1z  2020-03-30    7.42            164   \n",
       "739496  r51579957X  z91796444U     t1P  2020-03-30    4.19             26   \n",
       "739497  l15212727I  z91796444U     z1A  2020-03-31    3.40             23   \n",
       "739498  Z78949958q  z91796444U     w1R  2020-04-01    9.02              5   \n",
       "739499  T14594979g  z91796444U     k1R  2020-04-01    5.96             29   \n",
       "\n",
       "        ride_cost  speed_avg   speed_max  stop_times     distance  refueling  \\\n",
       "0             268         36  113.548538           0   514.246920          0   \n",
       "1              59         36   93.000000           1   197.520662          0   \n",
       "2             315         61   81.959675           0  1276.328206          0   \n",
       "3             205         32  128.000000           0   535.680831          0   \n",
       "4             554         38   90.000000           1  1729.143367          0   \n",
       "...           ...        ...         ...         ...          ...        ...   \n",
       "739495       2290         49   54.586302           0  2274.772387          0   \n",
       "739496        412         46   73.000000           0   515.580231          0   \n",
       "739497        178         37   71.000000           1   444.846677          0   \n",
       "739498         75         48   87.000000           1   179.464361          0   \n",
       "739499        344         45   55.000000           2  1140.454305          0   \n",
       "\n",
       "        user_ride_quality  deviation_normal  \n",
       "0                1.115260             2.909  \n",
       "1                1.650465             4.133  \n",
       "2                2.599112             2.461  \n",
       "3                3.216255             0.909  \n",
       "4                2.716550            -1.822  \n",
       "...                   ...               ...  \n",
       "739495           6.137593           -39.752  \n",
       "739496           6.703367           -38.480  \n",
       "739497           6.255344           -45.080  \n",
       "739498           7.759949           -60.193  \n",
       "739499                NaN           -50.835  \n",
       "\n",
       "[739500 rows x 14 columns]"
      ]
     },
     "execution_count": 6,
     "metadata": {},
     "output_type": "execute_result"
    }
   ],
   "source": [
    "rides_info"
   ]
  },
  {
   "cell_type": "code",
   "execution_count": 7,
   "id": "31373476-432d-40a2-888d-1707e36e3773",
   "metadata": {},
   "outputs": [
    {
     "data": {
      "text/html": [
       "<div>\n",
       "<style scoped>\n",
       "    .dataframe tbody tr th:only-of-type {\n",
       "        vertical-align: middle;\n",
       "    }\n",
       "\n",
       "    .dataframe tbody tr th {\n",
       "        vertical-align: top;\n",
       "    }\n",
       "\n",
       "    .dataframe thead th {\n",
       "        text-align: right;\n",
       "    }\n",
       "</style>\n",
       "<table border=\"1\" class=\"dataframe\">\n",
       "  <thead>\n",
       "    <tr style=\"text-align: right;\">\n",
       "      <th></th>\n",
       "      <th>car_id</th>\n",
       "      <th>model</th>\n",
       "      <th>car_type</th>\n",
       "      <th>fuel_type</th>\n",
       "      <th>car_rating</th>\n",
       "      <th>year_to_start</th>\n",
       "      <th>riders</th>\n",
       "      <th>year_to_work</th>\n",
       "      <th>target_reg</th>\n",
       "      <th>target_class</th>\n",
       "    </tr>\n",
       "  </thead>\n",
       "  <tbody>\n",
       "    <tr>\n",
       "      <th>0</th>\n",
       "      <td>y13744087j</td>\n",
       "      <td>Kia Rio X-line</td>\n",
       "      <td>economy</td>\n",
       "      <td>petrol</td>\n",
       "      <td>3.78</td>\n",
       "      <td>2015</td>\n",
       "      <td>76163</td>\n",
       "      <td>2021</td>\n",
       "      <td>108.53</td>\n",
       "      <td>another_bug</td>\n",
       "    </tr>\n",
       "    <tr>\n",
       "      <th>1</th>\n",
       "      <td>O41613818T</td>\n",
       "      <td>VW Polo VI</td>\n",
       "      <td>economy</td>\n",
       "      <td>petrol</td>\n",
       "      <td>3.90</td>\n",
       "      <td>2015</td>\n",
       "      <td>78218</td>\n",
       "      <td>2021</td>\n",
       "      <td>35.20</td>\n",
       "      <td>electro_bug</td>\n",
       "    </tr>\n",
       "    <tr>\n",
       "      <th>2</th>\n",
       "      <td>d-2109686j</td>\n",
       "      <td>Renault Sandero</td>\n",
       "      <td>standart</td>\n",
       "      <td>petrol</td>\n",
       "      <td>6.30</td>\n",
       "      <td>2012</td>\n",
       "      <td>23340</td>\n",
       "      <td>2017</td>\n",
       "      <td>38.62</td>\n",
       "      <td>gear_stick</td>\n",
       "    </tr>\n",
       "    <tr>\n",
       "      <th>3</th>\n",
       "      <td>u29695600e</td>\n",
       "      <td>Mercedes-Benz GLC</td>\n",
       "      <td>business</td>\n",
       "      <td>petrol</td>\n",
       "      <td>4.04</td>\n",
       "      <td>2011</td>\n",
       "      <td>1263</td>\n",
       "      <td>2020</td>\n",
       "      <td>30.34</td>\n",
       "      <td>engine_fuel</td>\n",
       "    </tr>\n",
       "    <tr>\n",
       "      <th>4</th>\n",
       "      <td>N-8915870N</td>\n",
       "      <td>Renault Sandero</td>\n",
       "      <td>standart</td>\n",
       "      <td>petrol</td>\n",
       "      <td>4.70</td>\n",
       "      <td>2012</td>\n",
       "      <td>26428</td>\n",
       "      <td>2017</td>\n",
       "      <td>30.45</td>\n",
       "      <td>engine_fuel</td>\n",
       "    </tr>\n",
       "    <tr>\n",
       "      <th>...</th>\n",
       "      <td>...</td>\n",
       "      <td>...</td>\n",
       "      <td>...</td>\n",
       "      <td>...</td>\n",
       "      <td>...</td>\n",
       "      <td>...</td>\n",
       "      <td>...</td>\n",
       "      <td>...</td>\n",
       "      <td>...</td>\n",
       "      <td>...</td>\n",
       "    </tr>\n",
       "    <tr>\n",
       "      <th>2332</th>\n",
       "      <td>j21246192N</td>\n",
       "      <td>Smart ForFour</td>\n",
       "      <td>economy</td>\n",
       "      <td>petrol</td>\n",
       "      <td>4.38</td>\n",
       "      <td>2017</td>\n",
       "      <td>121239</td>\n",
       "      <td>2018</td>\n",
       "      <td>25.48</td>\n",
       "      <td>wheel_shake</td>\n",
       "    </tr>\n",
       "    <tr>\n",
       "      <th>2333</th>\n",
       "      <td>h-1554287F</td>\n",
       "      <td>Audi A4</td>\n",
       "      <td>premium</td>\n",
       "      <td>petrol</td>\n",
       "      <td>4.30</td>\n",
       "      <td>2016</td>\n",
       "      <td>107793</td>\n",
       "      <td>2020</td>\n",
       "      <td>69.26</td>\n",
       "      <td>engine_check</td>\n",
       "    </tr>\n",
       "    <tr>\n",
       "      <th>2334</th>\n",
       "      <td>A15262612g</td>\n",
       "      <td>Kia Rio</td>\n",
       "      <td>economy</td>\n",
       "      <td>petrol</td>\n",
       "      <td>3.88</td>\n",
       "      <td>2015</td>\n",
       "      <td>80234</td>\n",
       "      <td>2019</td>\n",
       "      <td>46.03</td>\n",
       "      <td>gear_stick</td>\n",
       "    </tr>\n",
       "    <tr>\n",
       "      <th>2335</th>\n",
       "      <td>W-2514493U</td>\n",
       "      <td>Renault Sandero</td>\n",
       "      <td>standart</td>\n",
       "      <td>petrol</td>\n",
       "      <td>4.50</td>\n",
       "      <td>2014</td>\n",
       "      <td>60048</td>\n",
       "      <td>2020</td>\n",
       "      <td>77.19</td>\n",
       "      <td>another_bug</td>\n",
       "    </tr>\n",
       "    <tr>\n",
       "      <th>2336</th>\n",
       "      <td>z-1337463D</td>\n",
       "      <td>VW Polo</td>\n",
       "      <td>economy</td>\n",
       "      <td>petrol</td>\n",
       "      <td>3.94</td>\n",
       "      <td>2015</td>\n",
       "      <td>92312</td>\n",
       "      <td>2016</td>\n",
       "      <td>54.68</td>\n",
       "      <td>engine_check</td>\n",
       "    </tr>\n",
       "  </tbody>\n",
       "</table>\n",
       "<p>2337 rows × 10 columns</p>\n",
       "</div>"
      ],
      "text/plain": [
       "          car_id              model  car_type fuel_type  car_rating  \\\n",
       "0     y13744087j     Kia Rio X-line   economy    petrol        3.78   \n",
       "1     O41613818T         VW Polo VI   economy    petrol        3.90   \n",
       "2     d-2109686j    Renault Sandero  standart    petrol        6.30   \n",
       "3     u29695600e  Mercedes-Benz GLC  business    petrol        4.04   \n",
       "4     N-8915870N    Renault Sandero  standart    petrol        4.70   \n",
       "...          ...                ...       ...       ...         ...   \n",
       "2332  j21246192N      Smart ForFour   economy    petrol        4.38   \n",
       "2333  h-1554287F            Audi A4   premium    petrol        4.30   \n",
       "2334  A15262612g            Kia Rio   economy    petrol        3.88   \n",
       "2335  W-2514493U    Renault Sandero  standart    petrol        4.50   \n",
       "2336  z-1337463D            VW Polo   economy    petrol        3.94   \n",
       "\n",
       "      year_to_start  riders  year_to_work  target_reg  target_class  \n",
       "0              2015   76163          2021      108.53   another_bug  \n",
       "1              2015   78218          2021       35.20   electro_bug  \n",
       "2              2012   23340          2017       38.62    gear_stick  \n",
       "3              2011    1263          2020       30.34   engine_fuel  \n",
       "4              2012   26428          2017       30.45   engine_fuel  \n",
       "...             ...     ...           ...         ...           ...  \n",
       "2332           2017  121239          2018       25.48   wheel_shake  \n",
       "2333           2016  107793          2020       69.26  engine_check  \n",
       "2334           2015   80234          2019       46.03    gear_stick  \n",
       "2335           2014   60048          2020       77.19   another_bug  \n",
       "2336           2015   92312          2016       54.68  engine_check  \n",
       "\n",
       "[2337 rows x 10 columns]"
      ]
     },
     "execution_count": 7,
     "metadata": {},
     "output_type": "execute_result"
    }
   ],
   "source": [
    "car_train"
   ]
  },
  {
   "cell_type": "markdown",
   "id": "8259a086-0ccc-4dde-9031-1bee7752ac9b",
   "metadata": {},
   "source": [
    "Для такого случая есть специальная функция `display`, которая выводит датафрейм в привычном формате, и позволяет не множить ячейки:"
   ]
  },
  {
   "cell_type": "code",
   "execution_count": 8,
   "id": "3d097fca-ea3b-4af6-8f99-f50022522cd0",
   "metadata": {},
   "outputs": [
    {
     "data": {
      "text/html": [
       "<div>\n",
       "<style scoped>\n",
       "    .dataframe tbody tr th:only-of-type {\n",
       "        vertical-align: middle;\n",
       "    }\n",
       "\n",
       "    .dataframe tbody tr th {\n",
       "        vertical-align: top;\n",
       "    }\n",
       "\n",
       "    .dataframe thead th {\n",
       "        text-align: right;\n",
       "    }\n",
       "</style>\n",
       "<table border=\"1\" class=\"dataframe\">\n",
       "  <thead>\n",
       "    <tr style=\"text-align: right;\">\n",
       "      <th></th>\n",
       "      <th>user_id</th>\n",
       "      <th>car_id</th>\n",
       "      <th>ride_id</th>\n",
       "      <th>ride_date</th>\n",
       "      <th>rating</th>\n",
       "      <th>ride_duration</th>\n",
       "      <th>ride_cost</th>\n",
       "      <th>speed_avg</th>\n",
       "      <th>speed_max</th>\n",
       "      <th>stop_times</th>\n",
       "      <th>distance</th>\n",
       "      <th>refueling</th>\n",
       "      <th>user_ride_quality</th>\n",
       "      <th>deviation_normal</th>\n",
       "    </tr>\n",
       "  </thead>\n",
       "  <tbody>\n",
       "    <tr>\n",
       "      <th>0</th>\n",
       "      <td>o52317055h</td>\n",
       "      <td>A-1049127W</td>\n",
       "      <td>b1v</td>\n",
       "      <td>2020-01-01</td>\n",
       "      <td>4.95</td>\n",
       "      <td>21</td>\n",
       "      <td>268</td>\n",
       "      <td>36</td>\n",
       "      <td>113.548538</td>\n",
       "      <td>0</td>\n",
       "      <td>514.246920</td>\n",
       "      <td>0</td>\n",
       "      <td>1.115260</td>\n",
       "      <td>2.909</td>\n",
       "    </tr>\n",
       "    <tr>\n",
       "      <th>1</th>\n",
       "      <td>H41298704y</td>\n",
       "      <td>A-1049127W</td>\n",
       "      <td>T1U</td>\n",
       "      <td>2020-01-01</td>\n",
       "      <td>6.91</td>\n",
       "      <td>8</td>\n",
       "      <td>59</td>\n",
       "      <td>36</td>\n",
       "      <td>93.000000</td>\n",
       "      <td>1</td>\n",
       "      <td>197.520662</td>\n",
       "      <td>0</td>\n",
       "      <td>1.650465</td>\n",
       "      <td>4.133</td>\n",
       "    </tr>\n",
       "  </tbody>\n",
       "</table>\n",
       "</div>"
      ],
      "text/plain": [
       "      user_id      car_id ride_id   ride_date  rating  ride_duration  \\\n",
       "0  o52317055h  A-1049127W     b1v  2020-01-01    4.95             21   \n",
       "1  H41298704y  A-1049127W     T1U  2020-01-01    6.91              8   \n",
       "\n",
       "   ride_cost  speed_avg   speed_max  stop_times    distance  refueling  \\\n",
       "0        268         36  113.548538           0  514.246920          0   \n",
       "1         59         36   93.000000           1  197.520662          0   \n",
       "\n",
       "   user_ride_quality  deviation_normal  \n",
       "0           1.115260             2.909  \n",
       "1           1.650465             4.133  "
      ]
     },
     "metadata": {},
     "output_type": "display_data"
    },
    {
     "data": {
      "text/html": [
       "<div>\n",
       "<style scoped>\n",
       "    .dataframe tbody tr th:only-of-type {\n",
       "        vertical-align: middle;\n",
       "    }\n",
       "\n",
       "    .dataframe tbody tr th {\n",
       "        vertical-align: top;\n",
       "    }\n",
       "\n",
       "    .dataframe thead th {\n",
       "        text-align: right;\n",
       "    }\n",
       "</style>\n",
       "<table border=\"1\" class=\"dataframe\">\n",
       "  <thead>\n",
       "    <tr style=\"text-align: right;\">\n",
       "      <th></th>\n",
       "      <th>car_id</th>\n",
       "      <th>model</th>\n",
       "      <th>car_type</th>\n",
       "      <th>fuel_type</th>\n",
       "      <th>car_rating</th>\n",
       "      <th>year_to_start</th>\n",
       "      <th>riders</th>\n",
       "      <th>year_to_work</th>\n",
       "      <th>target_reg</th>\n",
       "      <th>target_class</th>\n",
       "    </tr>\n",
       "  </thead>\n",
       "  <tbody>\n",
       "    <tr>\n",
       "      <th>0</th>\n",
       "      <td>y13744087j</td>\n",
       "      <td>Kia Rio X-line</td>\n",
       "      <td>economy</td>\n",
       "      <td>petrol</td>\n",
       "      <td>3.78</td>\n",
       "      <td>2015</td>\n",
       "      <td>76163</td>\n",
       "      <td>2021</td>\n",
       "      <td>108.53</td>\n",
       "      <td>another_bug</td>\n",
       "    </tr>\n",
       "    <tr>\n",
       "      <th>1</th>\n",
       "      <td>O41613818T</td>\n",
       "      <td>VW Polo VI</td>\n",
       "      <td>economy</td>\n",
       "      <td>petrol</td>\n",
       "      <td>3.90</td>\n",
       "      <td>2015</td>\n",
       "      <td>78218</td>\n",
       "      <td>2021</td>\n",
       "      <td>35.20</td>\n",
       "      <td>electro_bug</td>\n",
       "    </tr>\n",
       "  </tbody>\n",
       "</table>\n",
       "</div>"
      ],
      "text/plain": [
       "       car_id           model car_type fuel_type  car_rating  year_to_start  \\\n",
       "0  y13744087j  Kia Rio X-line  economy    petrol        3.78           2015   \n",
       "1  O41613818T      VW Polo VI  economy    petrol        3.90           2015   \n",
       "\n",
       "   riders  year_to_work  target_reg target_class  \n",
       "0   76163          2021      108.53  another_bug  \n",
       "1   78218          2021       35.20  electro_bug  "
      ]
     },
     "metadata": {},
     "output_type": "display_data"
    },
    {
     "data": {
      "text/plain": [
       "((739500, 14), (2337, 10))"
      ]
     },
     "execution_count": 8,
     "metadata": {},
     "output_type": "execute_result"
    }
   ],
   "source": [
    "from IPython.display import display # импортируем метод display для вывода таблиц\n",
    "\n",
    "display(rides_info.head(2))\n",
    "display(car_train.head(2))\n",
    "rides_info.shape, car_train.shape"
   ]
  },
  {
   "cell_type": "code",
   "execution_count": 9,
   "id": "948e6bcb-f051-4902-b27e-21696480eb34",
   "metadata": {},
   "outputs": [
    {
     "data": {
      "text/html": [
       "<div>\n",
       "<style scoped>\n",
       "    .dataframe tbody tr th:only-of-type {\n",
       "        vertical-align: middle;\n",
       "    }\n",
       "\n",
       "    .dataframe tbody tr th {\n",
       "        vertical-align: top;\n",
       "    }\n",
       "\n",
       "    .dataframe thead th {\n",
       "        text-align: right;\n",
       "    }\n",
       "</style>\n",
       "<table border=\"1\" class=\"dataframe\">\n",
       "  <thead>\n",
       "    <tr style=\"text-align: right;\">\n",
       "      <th></th>\n",
       "      <th>user_id</th>\n",
       "      <th>car_id</th>\n",
       "      <th>ride_id</th>\n",
       "      <th>ride_date</th>\n",
       "      <th>rating</th>\n",
       "      <th>ride_duration</th>\n",
       "      <th>ride_cost</th>\n",
       "      <th>speed_avg</th>\n",
       "      <th>speed_max</th>\n",
       "      <th>stop_times</th>\n",
       "      <th>...</th>\n",
       "      <th>deviation_normal</th>\n",
       "      <th>model</th>\n",
       "      <th>car_type</th>\n",
       "      <th>fuel_type</th>\n",
       "      <th>car_rating</th>\n",
       "      <th>year_to_start</th>\n",
       "      <th>riders</th>\n",
       "      <th>year_to_work</th>\n",
       "      <th>target_reg</th>\n",
       "      <th>target_class</th>\n",
       "    </tr>\n",
       "  </thead>\n",
       "  <tbody>\n",
       "    <tr>\n",
       "      <th>0</th>\n",
       "      <td>o52317055h</td>\n",
       "      <td>A-1049127W</td>\n",
       "      <td>b1v</td>\n",
       "      <td>2020-01-01</td>\n",
       "      <td>4.95</td>\n",
       "      <td>21</td>\n",
       "      <td>268</td>\n",
       "      <td>36</td>\n",
       "      <td>113.548538</td>\n",
       "      <td>0</td>\n",
       "      <td>...</td>\n",
       "      <td>2.909</td>\n",
       "      <td>Hyundai Solaris</td>\n",
       "      <td>economy</td>\n",
       "      <td>petrol</td>\n",
       "      <td>4.68</td>\n",
       "      <td>2011.0</td>\n",
       "      <td>1990.0</td>\n",
       "      <td>2016.0</td>\n",
       "      <td>46.28</td>\n",
       "      <td>engine_overheat</td>\n",
       "    </tr>\n",
       "    <tr>\n",
       "      <th>1</th>\n",
       "      <td>H41298704y</td>\n",
       "      <td>A-1049127W</td>\n",
       "      <td>T1U</td>\n",
       "      <td>2020-01-01</td>\n",
       "      <td>6.91</td>\n",
       "      <td>8</td>\n",
       "      <td>59</td>\n",
       "      <td>36</td>\n",
       "      <td>93.000000</td>\n",
       "      <td>1</td>\n",
       "      <td>...</td>\n",
       "      <td>4.133</td>\n",
       "      <td>Hyundai Solaris</td>\n",
       "      <td>economy</td>\n",
       "      <td>petrol</td>\n",
       "      <td>4.68</td>\n",
       "      <td>2011.0</td>\n",
       "      <td>1990.0</td>\n",
       "      <td>2016.0</td>\n",
       "      <td>46.28</td>\n",
       "      <td>engine_overheat</td>\n",
       "    </tr>\n",
       "    <tr>\n",
       "      <th>2</th>\n",
       "      <td>v88009926E</td>\n",
       "      <td>A-1049127W</td>\n",
       "      <td>g1p</td>\n",
       "      <td>2020-01-02</td>\n",
       "      <td>6.01</td>\n",
       "      <td>20</td>\n",
       "      <td>315</td>\n",
       "      <td>61</td>\n",
       "      <td>81.959675</td>\n",
       "      <td>0</td>\n",
       "      <td>...</td>\n",
       "      <td>2.461</td>\n",
       "      <td>Hyundai Solaris</td>\n",
       "      <td>economy</td>\n",
       "      <td>petrol</td>\n",
       "      <td>4.68</td>\n",
       "      <td>2011.0</td>\n",
       "      <td>1990.0</td>\n",
       "      <td>2016.0</td>\n",
       "      <td>46.28</td>\n",
       "      <td>engine_overheat</td>\n",
       "    </tr>\n",
       "    <tr>\n",
       "      <th>3</th>\n",
       "      <td>t14229455i</td>\n",
       "      <td>A-1049127W</td>\n",
       "      <td>S1c</td>\n",
       "      <td>2020-01-02</td>\n",
       "      <td>0.26</td>\n",
       "      <td>19</td>\n",
       "      <td>205</td>\n",
       "      <td>32</td>\n",
       "      <td>128.000000</td>\n",
       "      <td>0</td>\n",
       "      <td>...</td>\n",
       "      <td>0.909</td>\n",
       "      <td>Hyundai Solaris</td>\n",
       "      <td>economy</td>\n",
       "      <td>petrol</td>\n",
       "      <td>4.68</td>\n",
       "      <td>2011.0</td>\n",
       "      <td>1990.0</td>\n",
       "      <td>2016.0</td>\n",
       "      <td>46.28</td>\n",
       "      <td>engine_overheat</td>\n",
       "    </tr>\n",
       "    <tr>\n",
       "      <th>4</th>\n",
       "      <td>W17067612E</td>\n",
       "      <td>A-1049127W</td>\n",
       "      <td>X1b</td>\n",
       "      <td>2020-01-03</td>\n",
       "      <td>1.21</td>\n",
       "      <td>56</td>\n",
       "      <td>554</td>\n",
       "      <td>38</td>\n",
       "      <td>90.000000</td>\n",
       "      <td>1</td>\n",
       "      <td>...</td>\n",
       "      <td>-1.822</td>\n",
       "      <td>Hyundai Solaris</td>\n",
       "      <td>economy</td>\n",
       "      <td>petrol</td>\n",
       "      <td>4.68</td>\n",
       "      <td>2011.0</td>\n",
       "      <td>1990.0</td>\n",
       "      <td>2016.0</td>\n",
       "      <td>46.28</td>\n",
       "      <td>engine_overheat</td>\n",
       "    </tr>\n",
       "  </tbody>\n",
       "</table>\n",
       "<p>5 rows × 23 columns</p>\n",
       "</div>"
      ],
      "text/plain": [
       "      user_id      car_id ride_id   ride_date  rating  ride_duration  \\\n",
       "0  o52317055h  A-1049127W     b1v  2020-01-01    4.95             21   \n",
       "1  H41298704y  A-1049127W     T1U  2020-01-01    6.91              8   \n",
       "2  v88009926E  A-1049127W     g1p  2020-01-02    6.01             20   \n",
       "3  t14229455i  A-1049127W     S1c  2020-01-02    0.26             19   \n",
       "4  W17067612E  A-1049127W     X1b  2020-01-03    1.21             56   \n",
       "\n",
       "   ride_cost  speed_avg   speed_max  stop_times  ...  deviation_normal  \\\n",
       "0        268         36  113.548538           0  ...             2.909   \n",
       "1         59         36   93.000000           1  ...             4.133   \n",
       "2        315         61   81.959675           0  ...             2.461   \n",
       "3        205         32  128.000000           0  ...             0.909   \n",
       "4        554         38   90.000000           1  ...            -1.822   \n",
       "\n",
       "             model  car_type  fuel_type car_rating year_to_start  riders  \\\n",
       "0  Hyundai Solaris   economy     petrol       4.68        2011.0  1990.0   \n",
       "1  Hyundai Solaris   economy     petrol       4.68        2011.0  1990.0   \n",
       "2  Hyundai Solaris   economy     petrol       4.68        2011.0  1990.0   \n",
       "3  Hyundai Solaris   economy     petrol       4.68        2011.0  1990.0   \n",
       "4  Hyundai Solaris   economy     petrol       4.68        2011.0  1990.0   \n",
       "\n",
       "   year_to_work  target_reg     target_class  \n",
       "0        2016.0       46.28  engine_overheat  \n",
       "1        2016.0       46.28  engine_overheat  \n",
       "2        2016.0       46.28  engine_overheat  \n",
       "3        2016.0       46.28  engine_overheat  \n",
       "4        2016.0       46.28  engine_overheat  \n",
       "\n",
       "[5 rows x 23 columns]"
      ]
     },
     "execution_count": 9,
     "metadata": {},
     "output_type": "execute_result"
    }
   ],
   "source": [
    "# Объединим датасеты\n",
    "rides_info = rides_info.merge(car_train, on = 'car_id', how = 'left')\n",
    "rides_info.head()\n",
    "# Видно, что отобразились не все столбцы - появилось многоточие в середине\n",
    "# Также во float столбцах выводятся все знаки после запятой, что не всегда нужно и информативно"
   ]
  },
  {
   "cell_type": "code",
   "execution_count": 10,
   "id": "184d5e07-0192-4365-8cb0-6d8c3749600e",
   "metadata": {},
   "outputs": [
    {
     "data": {
      "text/html": [
       "<div>\n",
       "<style scoped>\n",
       "    .dataframe tbody tr th:only-of-type {\n",
       "        vertical-align: middle;\n",
       "    }\n",
       "\n",
       "    .dataframe tbody tr th {\n",
       "        vertical-align: top;\n",
       "    }\n",
       "\n",
       "    .dataframe thead th {\n",
       "        text-align: right;\n",
       "    }\n",
       "</style>\n",
       "<table border=\"1\" class=\"dataframe\">\n",
       "  <thead>\n",
       "    <tr style=\"text-align: right;\">\n",
       "      <th></th>\n",
       "      <th>user_id</th>\n",
       "      <th>car_id</th>\n",
       "      <th>ride_id</th>\n",
       "      <th>ride_date</th>\n",
       "      <th>rating</th>\n",
       "      <th>ride_duration</th>\n",
       "      <th>ride_cost</th>\n",
       "      <th>speed_avg</th>\n",
       "      <th>speed_max</th>\n",
       "      <th>stop_times</th>\n",
       "      <th>distance</th>\n",
       "      <th>refueling</th>\n",
       "      <th>user_ride_quality</th>\n",
       "      <th>deviation_normal</th>\n",
       "      <th>model</th>\n",
       "      <th>car_type</th>\n",
       "      <th>fuel_type</th>\n",
       "      <th>car_rating</th>\n",
       "      <th>year_to_start</th>\n",
       "      <th>riders</th>\n",
       "      <th>year_to_work</th>\n",
       "      <th>target_reg</th>\n",
       "      <th>target_class</th>\n",
       "    </tr>\n",
       "  </thead>\n",
       "  <tbody>\n",
       "    <tr>\n",
       "      <th>0</th>\n",
       "      <td>o52317055h</td>\n",
       "      <td>A-1049127W</td>\n",
       "      <td>b1v</td>\n",
       "      <td>2020-01-01</td>\n",
       "      <td>4.950</td>\n",
       "      <td>21</td>\n",
       "      <td>268</td>\n",
       "      <td>36</td>\n",
       "      <td>113.549</td>\n",
       "      <td>0</td>\n",
       "      <td>514.247</td>\n",
       "      <td>0</td>\n",
       "      <td>1.115</td>\n",
       "      <td>2.909</td>\n",
       "      <td>Hyundai Solaris</td>\n",
       "      <td>economy</td>\n",
       "      <td>petrol</td>\n",
       "      <td>4.680</td>\n",
       "      <td>2011.000</td>\n",
       "      <td>1990.000</td>\n",
       "      <td>2016.000</td>\n",
       "      <td>46.280</td>\n",
       "      <td>engine_overheat</td>\n",
       "    </tr>\n",
       "    <tr>\n",
       "      <th>1</th>\n",
       "      <td>H41298704y</td>\n",
       "      <td>A-1049127W</td>\n",
       "      <td>T1U</td>\n",
       "      <td>2020-01-01</td>\n",
       "      <td>6.910</td>\n",
       "      <td>8</td>\n",
       "      <td>59</td>\n",
       "      <td>36</td>\n",
       "      <td>93.000</td>\n",
       "      <td>1</td>\n",
       "      <td>197.521</td>\n",
       "      <td>0</td>\n",
       "      <td>1.650</td>\n",
       "      <td>4.133</td>\n",
       "      <td>Hyundai Solaris</td>\n",
       "      <td>economy</td>\n",
       "      <td>petrol</td>\n",
       "      <td>4.680</td>\n",
       "      <td>2011.000</td>\n",
       "      <td>1990.000</td>\n",
       "      <td>2016.000</td>\n",
       "      <td>46.280</td>\n",
       "      <td>engine_overheat</td>\n",
       "    </tr>\n",
       "    <tr>\n",
       "      <th>2</th>\n",
       "      <td>v88009926E</td>\n",
       "      <td>A-1049127W</td>\n",
       "      <td>g1p</td>\n",
       "      <td>2020-01-02</td>\n",
       "      <td>6.010</td>\n",
       "      <td>20</td>\n",
       "      <td>315</td>\n",
       "      <td>61</td>\n",
       "      <td>81.960</td>\n",
       "      <td>0</td>\n",
       "      <td>1276.328</td>\n",
       "      <td>0</td>\n",
       "      <td>2.599</td>\n",
       "      <td>2.461</td>\n",
       "      <td>Hyundai Solaris</td>\n",
       "      <td>economy</td>\n",
       "      <td>petrol</td>\n",
       "      <td>4.680</td>\n",
       "      <td>2011.000</td>\n",
       "      <td>1990.000</td>\n",
       "      <td>2016.000</td>\n",
       "      <td>46.280</td>\n",
       "      <td>engine_overheat</td>\n",
       "    </tr>\n",
       "    <tr>\n",
       "      <th>3</th>\n",
       "      <td>t14229455i</td>\n",
       "      <td>A-1049127W</td>\n",
       "      <td>S1c</td>\n",
       "      <td>2020-01-02</td>\n",
       "      <td>0.260</td>\n",
       "      <td>19</td>\n",
       "      <td>205</td>\n",
       "      <td>32</td>\n",
       "      <td>128.000</td>\n",
       "      <td>0</td>\n",
       "      <td>535.681</td>\n",
       "      <td>0</td>\n",
       "      <td>3.216</td>\n",
       "      <td>0.909</td>\n",
       "      <td>Hyundai Solaris</td>\n",
       "      <td>economy</td>\n",
       "      <td>petrol</td>\n",
       "      <td>4.680</td>\n",
       "      <td>2011.000</td>\n",
       "      <td>1990.000</td>\n",
       "      <td>2016.000</td>\n",
       "      <td>46.280</td>\n",
       "      <td>engine_overheat</td>\n",
       "    </tr>\n",
       "    <tr>\n",
       "      <th>4</th>\n",
       "      <td>W17067612E</td>\n",
       "      <td>A-1049127W</td>\n",
       "      <td>X1b</td>\n",
       "      <td>2020-01-03</td>\n",
       "      <td>1.210</td>\n",
       "      <td>56</td>\n",
       "      <td>554</td>\n",
       "      <td>38</td>\n",
       "      <td>90.000</td>\n",
       "      <td>1</td>\n",
       "      <td>1729.143</td>\n",
       "      <td>0</td>\n",
       "      <td>2.717</td>\n",
       "      <td>-1.822</td>\n",
       "      <td>Hyundai Solaris</td>\n",
       "      <td>economy</td>\n",
       "      <td>petrol</td>\n",
       "      <td>4.680</td>\n",
       "      <td>2011.000</td>\n",
       "      <td>1990.000</td>\n",
       "      <td>2016.000</td>\n",
       "      <td>46.280</td>\n",
       "      <td>engine_overheat</td>\n",
       "    </tr>\n",
       "  </tbody>\n",
       "</table>\n",
       "</div>"
      ],
      "text/plain": [
       "      user_id      car_id ride_id   ride_date  rating  ride_duration  \\\n",
       "0  o52317055h  A-1049127W     b1v  2020-01-01   4.950             21   \n",
       "1  H41298704y  A-1049127W     T1U  2020-01-01   6.910              8   \n",
       "2  v88009926E  A-1049127W     g1p  2020-01-02   6.010             20   \n",
       "3  t14229455i  A-1049127W     S1c  2020-01-02   0.260             19   \n",
       "4  W17067612E  A-1049127W     X1b  2020-01-03   1.210             56   \n",
       "\n",
       "   ride_cost  speed_avg  speed_max  stop_times  distance  refueling  \\\n",
       "0        268         36    113.549           0   514.247          0   \n",
       "1         59         36     93.000           1   197.521          0   \n",
       "2        315         61     81.960           0  1276.328          0   \n",
       "3        205         32    128.000           0   535.681          0   \n",
       "4        554         38     90.000           1  1729.143          0   \n",
       "\n",
       "   user_ride_quality  deviation_normal            model car_type fuel_type  \\\n",
       "0              1.115             2.909  Hyundai Solaris  economy    petrol   \n",
       "1              1.650             4.133  Hyundai Solaris  economy    petrol   \n",
       "2              2.599             2.461  Hyundai Solaris  economy    petrol   \n",
       "3              3.216             0.909  Hyundai Solaris  economy    petrol   \n",
       "4              2.717            -1.822  Hyundai Solaris  economy    petrol   \n",
       "\n",
       "   car_rating  year_to_start   riders  year_to_work  target_reg  \\\n",
       "0       4.680       2011.000 1990.000      2016.000      46.280   \n",
       "1       4.680       2011.000 1990.000      2016.000      46.280   \n",
       "2       4.680       2011.000 1990.000      2016.000      46.280   \n",
       "3       4.680       2011.000 1990.000      2016.000      46.280   \n",
       "4       4.680       2011.000 1990.000      2016.000      46.280   \n",
       "\n",
       "      target_class  \n",
       "0  engine_overheat  \n",
       "1  engine_overheat  \n",
       "2  engine_overheat  \n",
       "3  engine_overheat  \n",
       "4  engine_overheat  "
      ]
     },
     "execution_count": 10,
     "metadata": {},
     "output_type": "execute_result"
    }
   ],
   "source": [
    "# Установим опции, которые помогут привести таблицу к желаемому виду\n",
    "pd.set_option('display.max_columns', None) # реализуем возможность вывода всех столбцов на экран \n",
    "pd.set_option('display.float_format', '{:.3f}'.format) # реализуем возможность вывода значений float до 3 знаков после запятой\n",
    "\n",
    "rides_info.head()"
   ]
  },
  {
   "cell_type": "markdown",
   "id": "80fc5fcb-ab7c-4e90-a72a-c6f4dd39cf35",
   "metadata": {},
   "source": [
    "Существует ещё множество полезных опций в Pandas, с которыми можно ознакомиться в [документации](https://pandas.pydata.org/pandas-docs/stable/reference/api/pandas.set_option.html). Здесь мы привели основные, которыми постоянно пользуемся сами. <br>\n",
    "Обычно опции выставляются вместе с импортом пандаса, в одном смысловом блоке:"
   ]
  },
  {
   "cell_type": "code",
   "execution_count": 11,
   "id": "dc427f27-c61f-47bd-91cb-cd69d5438adb",
   "metadata": {},
   "outputs": [],
   "source": [
    "import pandas as pd\n",
    "from IPython.display import display\n",
    "pd.set_option('display.max_columns', None) \n",
    "pd.set_option('display.float_format', '{:.3f}'.format)\n",
    "\n",
    "import warnings\n",
    "warnings.filterwarnings(\"ignore\") # также бывает полезно отключать предупреждения pandas и других фреймворков, особенно, при работе с прогресс-барами\n",
    "# но это палка о двух концах: можете пропустить важное предупреждение и не исправить его, и потом долго искать ошибку по коду.\n",
    "# отключайте warnings, если точно уверены в своих действиях"
   ]
  },
  {
   "cell_type": "markdown",
   "id": "b1de800f-bb6e-4252-af11-d40062d68c2c",
   "metadata": {},
   "source": [
    "## <center>`tqdm` - библиотека, добавляющая в вывод ячеек прогресс-бары.</center>"
   ]
  },
  {
   "cell_type": "code",
   "execution_count": 12,
   "id": "5f2a4848-b95b-424a-bf2a-c8fb2ad2e47a",
   "metadata": {},
   "outputs": [],
   "source": [
    "from tqdm.notebook import tqdm # Импортируем tqdm\n",
    "import time"
   ]
  },
  {
   "cell_type": "code",
   "execution_count": 14,
   "id": "f03f5d9a-101d-4db1-b8d9-d10976bb8a22",
   "metadata": {},
   "outputs": [
    {
     "name": "stdout",
     "output_type": "stream",
     "text": [
      "(2337, 10)\n"
     ]
    },
    {
     "data": {
      "text/html": [
       "<div>\n",
       "<style scoped>\n",
       "    .dataframe tbody tr th:only-of-type {\n",
       "        vertical-align: middle;\n",
       "    }\n",
       "\n",
       "    .dataframe tbody tr th {\n",
       "        vertical-align: top;\n",
       "    }\n",
       "\n",
       "    .dataframe thead th {\n",
       "        text-align: right;\n",
       "    }\n",
       "</style>\n",
       "<table border=\"1\" class=\"dataframe\">\n",
       "  <thead>\n",
       "    <tr style=\"text-align: right;\">\n",
       "      <th></th>\n",
       "      <th>car_id</th>\n",
       "      <th>model</th>\n",
       "      <th>car_type</th>\n",
       "      <th>fuel_type</th>\n",
       "      <th>car_rating</th>\n",
       "      <th>year_to_start</th>\n",
       "      <th>riders</th>\n",
       "      <th>year_to_work</th>\n",
       "      <th>target_reg</th>\n",
       "      <th>target_class</th>\n",
       "    </tr>\n",
       "  </thead>\n",
       "  <tbody>\n",
       "    <tr>\n",
       "      <th>609</th>\n",
       "      <td>p71128508c</td>\n",
       "      <td>Kia Rio X-line</td>\n",
       "      <td>economy</td>\n",
       "      <td>petrol</td>\n",
       "      <td>5.080</td>\n",
       "      <td>2014</td>\n",
       "      <td>60071</td>\n",
       "      <td>2016</td>\n",
       "      <td>38.310</td>\n",
       "      <td>engine_fuel</td>\n",
       "    </tr>\n",
       "    <tr>\n",
       "      <th>894</th>\n",
       "      <td>k-2273981K</td>\n",
       "      <td>Hyundai Solaris</td>\n",
       "      <td>economy</td>\n",
       "      <td>petrol</td>\n",
       "      <td>5.340</td>\n",
       "      <td>2013</td>\n",
       "      <td>40654</td>\n",
       "      <td>2020</td>\n",
       "      <td>52.820</td>\n",
       "      <td>engine_check</td>\n",
       "    </tr>\n",
       "    <tr>\n",
       "      <th>1017</th>\n",
       "      <td>f76040339F</td>\n",
       "      <td>VW Tiguan</td>\n",
       "      <td>economy</td>\n",
       "      <td>petrol</td>\n",
       "      <td>4.440</td>\n",
       "      <td>2015</td>\n",
       "      <td>89417</td>\n",
       "      <td>2020</td>\n",
       "      <td>56.060</td>\n",
       "      <td>another_bug</td>\n",
       "    </tr>\n",
       "    <tr>\n",
       "      <th>1281</th>\n",
       "      <td>k49230827x</td>\n",
       "      <td>VW Polo VI</td>\n",
       "      <td>economy</td>\n",
       "      <td>petrol</td>\n",
       "      <td>5.320</td>\n",
       "      <td>2011</td>\n",
       "      <td>4486</td>\n",
       "      <td>2022</td>\n",
       "      <td>53.410</td>\n",
       "      <td>engine_check</td>\n",
       "    </tr>\n",
       "    <tr>\n",
       "      <th>437</th>\n",
       "      <td>I-7566385U</td>\n",
       "      <td>Kia Sportage</td>\n",
       "      <td>standart</td>\n",
       "      <td>petrol</td>\n",
       "      <td>4.580</td>\n",
       "      <td>2014</td>\n",
       "      <td>64138</td>\n",
       "      <td>2021</td>\n",
       "      <td>32.800</td>\n",
       "      <td>break_bug</td>\n",
       "    </tr>\n",
       "  </tbody>\n",
       "</table>\n",
       "</div>"
      ],
      "text/plain": [
       "          car_id            model  car_type fuel_type  car_rating  \\\n",
       "609   p71128508c   Kia Rio X-line   economy    petrol       5.080   \n",
       "894   k-2273981K  Hyundai Solaris   economy    petrol       5.340   \n",
       "1017  f76040339F        VW Tiguan   economy    petrol       4.440   \n",
       "1281  k49230827x       VW Polo VI   economy    petrol       5.320   \n",
       "437   I-7566385U     Kia Sportage  standart    petrol       4.580   \n",
       "\n",
       "      year_to_start  riders  year_to_work  target_reg  target_class  \n",
       "609            2014   60071          2016      38.310   engine_fuel  \n",
       "894            2013   40654          2020      52.820  engine_check  \n",
       "1017           2015   89417          2020      56.060   another_bug  \n",
       "1281           2011    4486          2022      53.410  engine_check  \n",
       "437            2014   64138          2021      32.800     break_bug  "
      ]
     },
     "execution_count": 14,
     "metadata": {},
     "output_type": "execute_result"
    }
   ],
   "source": [
    "# Возьмем датасет car_train\n",
    "car_info = pd.read_csv('car_train.csv')\n",
    "print(car_info.shape)\n",
    "car_info.sample(5)"
   ]
  },
  {
   "cell_type": "code",
   "execution_count": 15,
   "id": "592272d2-0911-4cc9-960f-8e1aa86f7cd4",
   "metadata": {},
   "outputs": [
    {
     "name": "stdout",
     "output_type": "stream",
     "text": [
      "<class 'pandas.core.frame.DataFrame'>\n",
      "RangeIndex: 2337 entries, 0 to 2336\n",
      "Data columns (total 10 columns):\n",
      " #   Column         Non-Null Count  Dtype  \n",
      "---  ------         --------------  -----  \n",
      " 0   car_id         2337 non-null   object \n",
      " 1   model          2337 non-null   object \n",
      " 2   car_type       2337 non-null   object \n",
      " 3   fuel_type      2337 non-null   object \n",
      " 4   car_rating     2337 non-null   float64\n",
      " 5   year_to_start  2337 non-null   int64  \n",
      " 6   riders         2337 non-null   int64  \n",
      " 7   year_to_work   2337 non-null   int64  \n",
      " 8   target_reg     2337 non-null   float64\n",
      " 9   target_class   2337 non-null   object \n",
      "dtypes: float64(2), int64(3), object(5)\n",
      "memory usage: 182.7+ KB\n"
     ]
    }
   ],
   "source": [
    "car_info.info()"
   ]
  },
  {
   "cell_type": "markdown",
   "id": "e6aaabf8-c126-4644-bea1-ac43c5cdc2e9",
   "metadata": {},
   "source": [
    "Напишем функцию, которая будет хранить столбцы датафрейма в оптимальных типах, что может существенно уменьшить объём потребляемой памяти."
   ]
  },
  {
   "cell_type": "code",
   "execution_count": 16,
   "id": "b0cf3a9d-8e82-4922-b388-596b044f6d58",
   "metadata": {},
   "outputs": [],
   "source": [
    "def optimize_df(df):\n",
    "    types = list()\n",
    "    for x in df.dtypes.tolist():\n",
    "        if x=='int64':\n",
    "            types.append('int16')\n",
    "        elif x=='float64':\n",
    "            types.append('float32')\n",
    "        else:\n",
    "            types.append('object')\n",
    "    types = dict(zip(df.columns.tolist(),types))\n",
    "    return df.astype(types)"
   ]
  },
  {
   "cell_type": "code",
   "execution_count": 17,
   "id": "8442f7c4-81b0-4fea-beb5-923712a068c0",
   "metadata": {},
   "outputs": [],
   "source": [
    "# Запустим на нашем датасете\n",
    "car_info = optimize_df(car_info)"
   ]
  },
  {
   "cell_type": "markdown",
   "id": "ef57b35f-5ae2-4945-9395-7c8cb8476347",
   "metadata": {},
   "source": [
    "Непонятно отработала функция или нет и сколько ждать до её окончания? Особенно актуально на больших датасетах с тысячами столбцов. <br> \n",
    "Добавим прогресс бар."
   ]
  },
  {
   "cell_type": "code",
   "execution_count": 18,
   "id": "2a4e7a4d-9bfd-4240-8351-007d1ecaa1c0",
   "metadata": {},
   "outputs": [],
   "source": [
    "def progress_optimize_df(df):\n",
    "    types = list()\n",
    "    for x in tqdm(df.dtypes.tolist()):\n",
    "        if x=='int64':\n",
    "            types.append('int16')\n",
    "        elif x=='float64':\n",
    "            types.append('float32')\n",
    "        else:\n",
    "            types.append('object')\n",
    "        time.sleep(1) # добавим паузу 1сек. для наглядности\n",
    "\n",
    "    types = dict(zip(df.columns.tolist(),types))\n",
    "    return df.astype(types)"
   ]
  },
  {
   "cell_type": "code",
   "execution_count": 20,
   "id": "fdcb0660-2c02-41b6-a575-94816f18004c",
   "metadata": {},
   "outputs": [
    {
     "data": {
      "application/vnd.jupyter.widget-view+json": {
       "model_id": "e151e91e55d24708b3d1b08551a80fd9",
       "version_major": 2,
       "version_minor": 0
      },
      "text/plain": [
       "  0%|          | 0/10 [00:00<?, ?it/s]"
      ]
     },
     "metadata": {},
     "output_type": "display_data"
    }
   ],
   "source": [
    "car_info = pd.read_csv('car_train.csv')\n",
    "car_info = progress_optimize_df(car_info)"
   ]
  },
  {
   "cell_type": "code",
   "execution_count": 21,
   "id": "42620389-6371-468f-a4a3-6f407ba29963",
   "metadata": {},
   "outputs": [
    {
     "name": "stdout",
     "output_type": "stream",
     "text": [
      "<class 'pandas.core.frame.DataFrame'>\n",
      "RangeIndex: 2337 entries, 0 to 2336\n",
      "Data columns (total 10 columns):\n",
      " #   Column         Non-Null Count  Dtype  \n",
      "---  ------         --------------  -----  \n",
      " 0   car_id         2337 non-null   object \n",
      " 1   model          2337 non-null   object \n",
      " 2   car_type       2337 non-null   object \n",
      " 3   fuel_type      2337 non-null   object \n",
      " 4   car_rating     2337 non-null   float32\n",
      " 5   year_to_start  2337 non-null   int16  \n",
      " 6   riders         2337 non-null   int16  \n",
      " 7   year_to_work   2337 non-null   int16  \n",
      " 8   target_reg     2337 non-null   float32\n",
      " 9   target_class   2337 non-null   object \n",
      "dtypes: float32(2), int16(3), object(5)\n",
      "memory usage: 123.4+ KB\n"
     ]
    }
   ],
   "source": [
    "car_info.info() # Объем занимаемой памяти уменьшился на 30%"
   ]
  },
  {
   "cell_type": "markdown",
   "id": "9620085a-e118-413a-a93f-202925d3d7ef",
   "metadata": {},
   "source": [
    "Теперь, допустим, мы захотели проитерироваться по всему нашему датасету и посчитать сколько было водителей на всех машинах за все время. "
   ]
  },
  {
   "cell_type": "code",
   "execution_count": 22,
   "id": "b4c5c6dc-da83-4138-9333-b7188254dcef",
   "metadata": {},
   "outputs": [
    {
     "data": {
      "application/vnd.jupyter.widget-view+json": {
       "model_id": "5f7340bde82742f18afe65fb3300c423",
       "version_major": 2,
       "version_minor": 0
      },
      "text/plain": [
       "0it [00:00, ?it/s]"
      ]
     },
     "metadata": {},
     "output_type": "display_data"
    }
   ],
   "source": [
    "riders = 0\n",
    "for ind, row in tqdm(car_info.iterrows()):\n",
    "    time.sleep(0.01)\n",
    "    riders += row['riders']"
   ]
  },
  {
   "cell_type": "markdown",
   "id": "c7b08a84-90e9-4914-8bf7-c53fce951080",
   "metadata": {},
   "source": [
    "Видно, что функция не знает сколько всего будет объектов и сколько времени осталось до конца тоже посчитать не может. Так как <code>iterrows()</code>\n",
    "выдает ряд датафрейма и его индекс. <br>\n",
    "Для такого случая в функции <code>tqdm()</code> есть параметр <code>total</code>, в который передадим длину последовательности."
   ]
  },
  {
   "cell_type": "code",
   "execution_count": 23,
   "id": "d2d8235c-141e-4e63-8cad-d4d278d5de6f",
   "metadata": {},
   "outputs": [
    {
     "data": {
      "application/vnd.jupyter.widget-view+json": {
       "model_id": "93f22d9239814bf89e709554392ce8ad",
       "version_major": 2,
       "version_minor": 0
      },
      "text/plain": [
       "  0%|          | 0/2337 [00:00<?, ?it/s]"
      ]
     },
     "metadata": {},
     "output_type": "display_data"
    },
    {
     "data": {
      "text/plain": [
       "2879436"
      ]
     },
     "execution_count": 23,
     "metadata": {},
     "output_type": "execute_result"
    }
   ],
   "source": [
    "riders = 0\n",
    "for ind, row in tqdm(car_info.iterrows(), total=len(car_info)):\n",
    "    riders += row['riders']\n",
    "    time.sleep(0.01)\n",
    "riders\n",
    "# теперь прогресс-бар отображается как нужно"
   ]
  },
  {
   "cell_type": "markdown",
   "id": "f97dae3b-aad9-4f7b-81ab-8e2ef0cdd94b",
   "metadata": {},
   "source": [
    "Если присутствует вложенный цикл и в каждый из них добавить обычный прогресс бар - получится не слишком красиво:"
   ]
  },
  {
   "cell_type": "code",
   "execution_count": 24,
   "id": "9fe30a51-b3b0-49d6-9501-c4fc4ed0f97b",
   "metadata": {},
   "outputs": [
    {
     "data": {
      "application/vnd.jupyter.widget-view+json": {
       "model_id": "49974aa8ff4343519a15df3ca1d58b6f",
       "version_major": 2,
       "version_minor": 0
      },
      "text/plain": [
       "  0%|          | 0/4 [00:00<?, ?it/s]"
      ]
     },
     "metadata": {},
     "output_type": "display_data"
    },
    {
     "data": {
      "application/vnd.jupyter.widget-view+json": {
       "model_id": "5e7afc0701344068a53cc858f8d81356",
       "version_major": 2,
       "version_minor": 0
      },
      "text/plain": [
       "  0%|          | 0/100 [00:00<?, ?it/s]"
      ]
     },
     "metadata": {},
     "output_type": "display_data"
    },
    {
     "data": {
      "application/vnd.jupyter.widget-view+json": {
       "model_id": "d0a57846f06545ad95f4449f65aff34c",
       "version_major": 2,
       "version_minor": 0
      },
      "text/plain": [
       "  0%|          | 0/100 [00:00<?, ?it/s]"
      ]
     },
     "metadata": {},
     "output_type": "display_data"
    },
    {
     "data": {
      "application/vnd.jupyter.widget-view+json": {
       "model_id": "25d90599f6914b7cab16ff6c3e57754c",
       "version_major": 2,
       "version_minor": 0
      },
      "text/plain": [
       "  0%|          | 0/100 [00:00<?, ?it/s]"
      ]
     },
     "metadata": {},
     "output_type": "display_data"
    },
    {
     "data": {
      "application/vnd.jupyter.widget-view+json": {
       "model_id": "6920bdfb36ce4595adafeb4314018976",
       "version_major": 2,
       "version_minor": 0
      },
      "text/plain": [
       "  0%|          | 0/100 [00:00<?, ?it/s]"
      ]
     },
     "metadata": {},
     "output_type": "display_data"
    }
   ],
   "source": [
    "for i in tqdm(range(4)):\n",
    "    for j in tqdm(range(100)):\n",
    "        time.sleep(0.01)"
   ]
  },
  {
   "cell_type": "markdown",
   "id": "c2f251c6-8bf7-4e71-8392-2359de3826d7",
   "metadata": {},
   "source": [
    "Следует использовать функцию `notebook.trange` для компактного отображения"
   ]
  },
  {
   "cell_type": "code",
   "execution_count": 25,
   "id": "3199098a-fabd-45c7-8af2-ea94297af3ce",
   "metadata": {},
   "outputs": [
    {
     "data": {
      "application/vnd.jupyter.widget-view+json": {
       "model_id": "f342cf9f32e14a539e75ad28b7672129",
       "version_major": 2,
       "version_minor": 0
      },
      "text/plain": [
       "Loop 1:   0%|          | 0/4 [00:00<?, ?it/s]"
      ]
     },
     "metadata": {},
     "output_type": "display_data"
    },
    {
     "data": {
      "application/vnd.jupyter.widget-view+json": {
       "model_id": "8e7dfd09fe3448dd975f639e1f4b4545",
       "version_major": 2,
       "version_minor": 0
      },
      "text/plain": [
       "Loop 2:   0%|          | 0/100 [00:00<?, ?it/s]"
      ]
     },
     "metadata": {},
     "output_type": "display_data"
    },
    {
     "data": {
      "application/vnd.jupyter.widget-view+json": {
       "model_id": "9a64e020b3be4998a8626b69117fbf37",
       "version_major": 2,
       "version_minor": 0
      },
      "text/plain": [
       "Loop 2:   0%|          | 0/100 [00:00<?, ?it/s]"
      ]
     },
     "metadata": {},
     "output_type": "display_data"
    },
    {
     "data": {
      "application/vnd.jupyter.widget-view+json": {
       "model_id": "7636378575dc4e0a9e4e8834047295a4",
       "version_major": 2,
       "version_minor": 0
      },
      "text/plain": [
       "Loop 2:   0%|          | 0/100 [00:00<?, ?it/s]"
      ]
     },
     "metadata": {},
     "output_type": "display_data"
    },
    {
     "data": {
      "application/vnd.jupyter.widget-view+json": {
       "model_id": "01a92a84519e4a589663cd014e3b54d1",
       "version_major": 2,
       "version_minor": 0
      },
      "text/plain": [
       "Loop 2:   0%|          | 0/100 [00:00<?, ?it/s]"
      ]
     },
     "metadata": {},
     "output_type": "display_data"
    }
   ],
   "source": [
    "import tqdm\n",
    "\n",
    "for i in tqdm.notebook.trange(4, desc='Loop 1'):\n",
    "    for j in tqdm.notebook.trange(100, desc='Loop 2'):\n",
    "        time.sleep(0.01)"
   ]
  },
  {
   "cell_type": "code",
   "execution_count": 26,
   "id": "90a05986-44d2-4f53-98c2-f9cc0066c346",
   "metadata": {},
   "outputs": [
    {
     "data": {
      "application/vnd.jupyter.widget-view+json": {
       "model_id": "5fbb632132674381865e45aff9fd7cf9",
       "version_major": 2,
       "version_minor": 0
      },
      "text/plain": [
       "Loop 1:   0%|          | 0/4 [00:00<?, ?it/s]"
      ]
     },
     "metadata": {},
     "output_type": "display_data"
    },
    {
     "data": {
      "application/vnd.jupyter.widget-view+json": {
       "model_id": "",
       "version_major": 2,
       "version_minor": 0
      },
      "text/plain": [
       "Loop 2:   0%|          | 0/100 [00:00<?, ?it/s]"
      ]
     },
     "metadata": {},
     "output_type": "display_data"
    },
    {
     "data": {
      "application/vnd.jupyter.widget-view+json": {
       "model_id": "",
       "version_major": 2,
       "version_minor": 0
      },
      "text/plain": [
       "Loop 2:   0%|          | 0/100 [00:00<?, ?it/s]"
      ]
     },
     "metadata": {},
     "output_type": "display_data"
    },
    {
     "data": {
      "application/vnd.jupyter.widget-view+json": {
       "model_id": "",
       "version_major": 2,
       "version_minor": 0
      },
      "text/plain": [
       "Loop 2:   0%|          | 0/100 [00:00<?, ?it/s]"
      ]
     },
     "metadata": {},
     "output_type": "display_data"
    },
    {
     "data": {
      "application/vnd.jupyter.widget-view+json": {
       "model_id": "",
       "version_major": 2,
       "version_minor": 0
      },
      "text/plain": [
       "Loop 2:   0%|          | 0/100 [00:00<?, ?it/s]"
      ]
     },
     "metadata": {},
     "output_type": "display_data"
    }
   ],
   "source": [
    "# Можно ещё компактнее, добавим параметр leave=False\n",
    "for i in tqdm.notebook.trange(4, desc='Loop 1'):\n",
    "    for j in tqdm.notebook.trange(100, desc='Loop 2', leave=False):\n",
    "        time.sleep(0.01)"
   ]
  },
  {
   "cell_type": "code",
   "execution_count": 27,
   "id": "bcd5ea86-8339-4655-8eac-5ea55dde7cf5",
   "metadata": {},
   "outputs": [
    {
     "name": "stderr",
     "output_type": "stream",
     "text": [
      "100%|█████████████████████████████████████████| 100/100 [00:01<00:00, 97.42it/s]\n"
     ]
    }
   ],
   "source": [
    "from tqdm import tqdm\n",
    "\n",
    "for i in tqdm(range(100)):\n",
    "    time.sleep(0.01)"
   ]
  },
  {
   "cell_type": "markdown",
   "id": "91721f2d-f3d4-459a-9507-0902edb92d48",
   "metadata": {},
   "source": [
    "## <center> `progress_apply()`</center>"
   ]
  },
  {
   "cell_type": "markdown",
   "id": "0a44dd8b-2eef-4f62-99b6-af02ca28863f",
   "metadata": {},
   "source": [
    "А теперь мы внезапно поняли, что название модели автомобиля очень информативный столбец и решили на его основе нагенерировать странных признаков:"
   ]
  },
  {
   "cell_type": "code",
   "execution_count": 28,
   "id": "9ec9220c-ea03-46ba-a1ff-37176891caec",
   "metadata": {},
   "outputs": [],
   "source": [
    "car_info['char_count'] = car_info['model'].apply(len)\n",
    "car_info['word_count'] = car_info['model'].apply(lambda x: len(x.split()))\n",
    "car_info['different_words'] = car_info['model'].apply(lambda x: len(set(x.split())))\n",
    "car_info['title_word_count'] = car_info['model'].apply(lambda x: len([wrd for wrd in x.split() if wrd.istitle()]))\n",
    "car_info['upper_case_word_count'] = car_info['model'].apply(lambda x: len([wrd for wrd in x.split() if wrd.isupper()]))\n",
    "car_info['is_bmw'] = car_info['model'].apply(lambda x: 1 if 'BMW' in x else 0)\n",
    "car_info['is_kia'] = car_info['model'].apply(lambda x: 1 if 'Kia' in x else 0)\n",
    "car_info['is_smart'] = car_info['model'].apply(lambda x: 1 if 'Smart' in x else 0)"
   ]
  },
  {
   "cell_type": "markdown",
   "id": "442b3788-6a2a-435d-b548-709f3f13d219",
   "metadata": {},
   "source": [
    "Снова непонятно сколько ждать и идет ли процесс. Давайте добавим прогресс-бар прямо в пандас. <br> Для этого немного по другому импортируем и инициализируем функцию <code>tqdm()</code>"
   ]
  },
  {
   "cell_type": "code",
   "execution_count": 29,
   "id": "1876829c-40f8-42f2-b623-455f4bfe0c1c",
   "metadata": {},
   "outputs": [
    {
     "name": "stderr",
     "output_type": "stream",
     "text": [
      "100%|███████████████████████████████████| 2337/2337 [00:00<00:00, 488054.59it/s]\n",
      "100%|███████████████████████████████████| 2337/2337 [00:00<00:00, 247978.36it/s]\n",
      "100%|███████████████████████████████████| 2337/2337 [00:00<00:00, 510233.12it/s]\n",
      "100%|███████████████████████████████████| 2337/2337 [00:00<00:00, 348940.53it/s]\n",
      "100%|███████████████████████████████████| 2337/2337 [00:00<00:00, 511965.34it/s]\n",
      "100%|███████████████████████████████████| 2337/2337 [00:00<00:00, 443433.09it/s]\n",
      "100%|███████████████████████████████████| 2337/2337 [00:00<00:00, 557570.45it/s]\n",
      "100%|███████████████████████████████████| 2337/2337 [00:00<00:00, 509014.30it/s]\n"
     ]
    },
    {
     "data": {
      "text/html": [
       "<div>\n",
       "<style scoped>\n",
       "    .dataframe tbody tr th:only-of-type {\n",
       "        vertical-align: middle;\n",
       "    }\n",
       "\n",
       "    .dataframe tbody tr th {\n",
       "        vertical-align: top;\n",
       "    }\n",
       "\n",
       "    .dataframe thead th {\n",
       "        text-align: right;\n",
       "    }\n",
       "</style>\n",
       "<table border=\"1\" class=\"dataframe\">\n",
       "  <thead>\n",
       "    <tr style=\"text-align: right;\">\n",
       "      <th></th>\n",
       "      <th>car_id</th>\n",
       "      <th>model</th>\n",
       "      <th>car_type</th>\n",
       "      <th>fuel_type</th>\n",
       "      <th>car_rating</th>\n",
       "      <th>year_to_start</th>\n",
       "      <th>riders</th>\n",
       "      <th>year_to_work</th>\n",
       "      <th>target_reg</th>\n",
       "      <th>target_class</th>\n",
       "      <th>char_count</th>\n",
       "      <th>word_count</th>\n",
       "      <th>different_words</th>\n",
       "      <th>title_word_count</th>\n",
       "      <th>upper_case_word_count</th>\n",
       "      <th>is_bmw</th>\n",
       "      <th>is_kia</th>\n",
       "      <th>is_smart</th>\n",
       "    </tr>\n",
       "  </thead>\n",
       "  <tbody>\n",
       "    <tr>\n",
       "      <th>0</th>\n",
       "      <td>y13744087j</td>\n",
       "      <td>Kia Rio X-line</td>\n",
       "      <td>economy</td>\n",
       "      <td>petrol</td>\n",
       "      <td>3.780</td>\n",
       "      <td>2015</td>\n",
       "      <td>10627</td>\n",
       "      <td>2021</td>\n",
       "      <td>108.530</td>\n",
       "      <td>another_bug</td>\n",
       "      <td>14</td>\n",
       "      <td>3</td>\n",
       "      <td>3</td>\n",
       "      <td>2</td>\n",
       "      <td>0</td>\n",
       "      <td>0</td>\n",
       "      <td>1</td>\n",
       "      <td>0</td>\n",
       "    </tr>\n",
       "    <tr>\n",
       "      <th>1</th>\n",
       "      <td>O41613818T</td>\n",
       "      <td>VW Polo VI</td>\n",
       "      <td>economy</td>\n",
       "      <td>petrol</td>\n",
       "      <td>3.900</td>\n",
       "      <td>2015</td>\n",
       "      <td>12682</td>\n",
       "      <td>2021</td>\n",
       "      <td>35.200</td>\n",
       "      <td>electro_bug</td>\n",
       "      <td>10</td>\n",
       "      <td>3</td>\n",
       "      <td>3</td>\n",
       "      <td>1</td>\n",
       "      <td>2</td>\n",
       "      <td>0</td>\n",
       "      <td>0</td>\n",
       "      <td>0</td>\n",
       "    </tr>\n",
       "    <tr>\n",
       "      <th>2</th>\n",
       "      <td>d-2109686j</td>\n",
       "      <td>Renault Sandero</td>\n",
       "      <td>standart</td>\n",
       "      <td>petrol</td>\n",
       "      <td>6.300</td>\n",
       "      <td>2012</td>\n",
       "      <td>23340</td>\n",
       "      <td>2017</td>\n",
       "      <td>38.620</td>\n",
       "      <td>gear_stick</td>\n",
       "      <td>15</td>\n",
       "      <td>2</td>\n",
       "      <td>2</td>\n",
       "      <td>2</td>\n",
       "      <td>0</td>\n",
       "      <td>0</td>\n",
       "      <td>0</td>\n",
       "      <td>0</td>\n",
       "    </tr>\n",
       "    <tr>\n",
       "      <th>3</th>\n",
       "      <td>u29695600e</td>\n",
       "      <td>Mercedes-Benz GLC</td>\n",
       "      <td>business</td>\n",
       "      <td>petrol</td>\n",
       "      <td>4.040</td>\n",
       "      <td>2011</td>\n",
       "      <td>1263</td>\n",
       "      <td>2020</td>\n",
       "      <td>30.340</td>\n",
       "      <td>engine_fuel</td>\n",
       "      <td>17</td>\n",
       "      <td>2</td>\n",
       "      <td>2</td>\n",
       "      <td>1</td>\n",
       "      <td>1</td>\n",
       "      <td>0</td>\n",
       "      <td>0</td>\n",
       "      <td>0</td>\n",
       "    </tr>\n",
       "    <tr>\n",
       "      <th>4</th>\n",
       "      <td>N-8915870N</td>\n",
       "      <td>Renault Sandero</td>\n",
       "      <td>standart</td>\n",
       "      <td>petrol</td>\n",
       "      <td>4.700</td>\n",
       "      <td>2012</td>\n",
       "      <td>26428</td>\n",
       "      <td>2017</td>\n",
       "      <td>30.450</td>\n",
       "      <td>engine_fuel</td>\n",
       "      <td>15</td>\n",
       "      <td>2</td>\n",
       "      <td>2</td>\n",
       "      <td>2</td>\n",
       "      <td>0</td>\n",
       "      <td>0</td>\n",
       "      <td>0</td>\n",
       "      <td>0</td>\n",
       "    </tr>\n",
       "    <tr>\n",
       "      <th>...</th>\n",
       "      <td>...</td>\n",
       "      <td>...</td>\n",
       "      <td>...</td>\n",
       "      <td>...</td>\n",
       "      <td>...</td>\n",
       "      <td>...</td>\n",
       "      <td>...</td>\n",
       "      <td>...</td>\n",
       "      <td>...</td>\n",
       "      <td>...</td>\n",
       "      <td>...</td>\n",
       "      <td>...</td>\n",
       "      <td>...</td>\n",
       "      <td>...</td>\n",
       "      <td>...</td>\n",
       "      <td>...</td>\n",
       "      <td>...</td>\n",
       "      <td>...</td>\n",
       "    </tr>\n",
       "    <tr>\n",
       "      <th>2332</th>\n",
       "      <td>j21246192N</td>\n",
       "      <td>Smart ForFour</td>\n",
       "      <td>economy</td>\n",
       "      <td>petrol</td>\n",
       "      <td>4.380</td>\n",
       "      <td>2017</td>\n",
       "      <td>-9833</td>\n",
       "      <td>2018</td>\n",
       "      <td>25.480</td>\n",
       "      <td>wheel_shake</td>\n",
       "      <td>13</td>\n",
       "      <td>2</td>\n",
       "      <td>2</td>\n",
       "      <td>1</td>\n",
       "      <td>0</td>\n",
       "      <td>0</td>\n",
       "      <td>0</td>\n",
       "      <td>1</td>\n",
       "    </tr>\n",
       "    <tr>\n",
       "      <th>2333</th>\n",
       "      <td>h-1554287F</td>\n",
       "      <td>Audi A4</td>\n",
       "      <td>premium</td>\n",
       "      <td>petrol</td>\n",
       "      <td>4.300</td>\n",
       "      <td>2016</td>\n",
       "      <td>-23279</td>\n",
       "      <td>2020</td>\n",
       "      <td>69.260</td>\n",
       "      <td>engine_check</td>\n",
       "      <td>7</td>\n",
       "      <td>2</td>\n",
       "      <td>2</td>\n",
       "      <td>2</td>\n",
       "      <td>1</td>\n",
       "      <td>0</td>\n",
       "      <td>0</td>\n",
       "      <td>0</td>\n",
       "    </tr>\n",
       "    <tr>\n",
       "      <th>2334</th>\n",
       "      <td>A15262612g</td>\n",
       "      <td>Kia Rio</td>\n",
       "      <td>economy</td>\n",
       "      <td>petrol</td>\n",
       "      <td>3.880</td>\n",
       "      <td>2015</td>\n",
       "      <td>14698</td>\n",
       "      <td>2019</td>\n",
       "      <td>46.030</td>\n",
       "      <td>gear_stick</td>\n",
       "      <td>7</td>\n",
       "      <td>2</td>\n",
       "      <td>2</td>\n",
       "      <td>2</td>\n",
       "      <td>0</td>\n",
       "      <td>0</td>\n",
       "      <td>1</td>\n",
       "      <td>0</td>\n",
       "    </tr>\n",
       "    <tr>\n",
       "      <th>2335</th>\n",
       "      <td>W-2514493U</td>\n",
       "      <td>Renault Sandero</td>\n",
       "      <td>standart</td>\n",
       "      <td>petrol</td>\n",
       "      <td>4.500</td>\n",
       "      <td>2014</td>\n",
       "      <td>-5488</td>\n",
       "      <td>2020</td>\n",
       "      <td>77.190</td>\n",
       "      <td>another_bug</td>\n",
       "      <td>15</td>\n",
       "      <td>2</td>\n",
       "      <td>2</td>\n",
       "      <td>2</td>\n",
       "      <td>0</td>\n",
       "      <td>0</td>\n",
       "      <td>0</td>\n",
       "      <td>0</td>\n",
       "    </tr>\n",
       "    <tr>\n",
       "      <th>2336</th>\n",
       "      <td>z-1337463D</td>\n",
       "      <td>VW Polo</td>\n",
       "      <td>economy</td>\n",
       "      <td>petrol</td>\n",
       "      <td>3.940</td>\n",
       "      <td>2015</td>\n",
       "      <td>26776</td>\n",
       "      <td>2016</td>\n",
       "      <td>54.680</td>\n",
       "      <td>engine_check</td>\n",
       "      <td>7</td>\n",
       "      <td>2</td>\n",
       "      <td>2</td>\n",
       "      <td>1</td>\n",
       "      <td>1</td>\n",
       "      <td>0</td>\n",
       "      <td>0</td>\n",
       "      <td>0</td>\n",
       "    </tr>\n",
       "  </tbody>\n",
       "</table>\n",
       "<p>2337 rows × 18 columns</p>\n",
       "</div>"
      ],
      "text/plain": [
       "          car_id              model  car_type fuel_type  car_rating  \\\n",
       "0     y13744087j     Kia Rio X-line   economy    petrol       3.780   \n",
       "1     O41613818T         VW Polo VI   economy    petrol       3.900   \n",
       "2     d-2109686j    Renault Sandero  standart    petrol       6.300   \n",
       "3     u29695600e  Mercedes-Benz GLC  business    petrol       4.040   \n",
       "4     N-8915870N    Renault Sandero  standart    petrol       4.700   \n",
       "...          ...                ...       ...       ...         ...   \n",
       "2332  j21246192N      Smart ForFour   economy    petrol       4.380   \n",
       "2333  h-1554287F            Audi A4   premium    petrol       4.300   \n",
       "2334  A15262612g            Kia Rio   economy    petrol       3.880   \n",
       "2335  W-2514493U    Renault Sandero  standart    petrol       4.500   \n",
       "2336  z-1337463D            VW Polo   economy    petrol       3.940   \n",
       "\n",
       "      year_to_start  riders  year_to_work  target_reg  target_class  \\\n",
       "0              2015   10627          2021     108.530   another_bug   \n",
       "1              2015   12682          2021      35.200   electro_bug   \n",
       "2              2012   23340          2017      38.620    gear_stick   \n",
       "3              2011    1263          2020      30.340   engine_fuel   \n",
       "4              2012   26428          2017      30.450   engine_fuel   \n",
       "...             ...     ...           ...         ...           ...   \n",
       "2332           2017   -9833          2018      25.480   wheel_shake   \n",
       "2333           2016  -23279          2020      69.260  engine_check   \n",
       "2334           2015   14698          2019      46.030    gear_stick   \n",
       "2335           2014   -5488          2020      77.190   another_bug   \n",
       "2336           2015   26776          2016      54.680  engine_check   \n",
       "\n",
       "      char_count  word_count  different_words  title_word_count  \\\n",
       "0             14           3                3                 2   \n",
       "1             10           3                3                 1   \n",
       "2             15           2                2                 2   \n",
       "3             17           2                2                 1   \n",
       "4             15           2                2                 2   \n",
       "...          ...         ...              ...               ...   \n",
       "2332          13           2                2                 1   \n",
       "2333           7           2                2                 2   \n",
       "2334           7           2                2                 2   \n",
       "2335          15           2                2                 2   \n",
       "2336           7           2                2                 1   \n",
       "\n",
       "      upper_case_word_count  is_bmw  is_kia  is_smart  \n",
       "0                         0       0       1         0  \n",
       "1                         2       0       0         0  \n",
       "2                         0       0       0         0  \n",
       "3                         1       0       0         0  \n",
       "4                         0       0       0         0  \n",
       "...                     ...     ...     ...       ...  \n",
       "2332                      0       0       0         1  \n",
       "2333                      1       0       0         0  \n",
       "2334                      0       0       1         0  \n",
       "2335                      0       0       0         0  \n",
       "2336                      1       0       0         0  \n",
       "\n",
       "[2337 rows x 18 columns]"
      ]
     },
     "execution_count": 29,
     "metadata": {},
     "output_type": "execute_result"
    }
   ],
   "source": [
    "from tqdm import tqdm\n",
    "tqdm.pandas()\n",
    "\n",
    "#и просто заменяем apply() на progress_apply(), тоже самое можно сделать для df.map()\n",
    "car_info['char_count'] = car_info['model'].progress_apply(len)\n",
    "car_info['word_count'] = car_info['model'].progress_apply(lambda x: len(x.split()))\n",
    "car_info['different_words'] = car_info['model'].progress_apply(lambda x: len(set(x.split())))\n",
    "car_info['title_word_count'] = car_info['model'].progress_apply(lambda x: len([wrd for wrd in x.split() if wrd.istitle()]))\n",
    "car_info['upper_case_word_count'] = car_info['model'].progress_apply(lambda x: len([wrd for wrd in x.split() if wrd.isupper()]))\n",
    "car_info['is_bmw'] = car_info['model'].progress_apply(lambda x: 1 if 'BMW' in x else 0)\n",
    "car_info['is_kia'] = car_info['model'].progress_apply(lambda x: 1 if 'Kia' in x else 0)\n",
    "car_info['is_smart'] = car_info['model'].progress_apply(lambda x: 1 if 'Smart' in x else 0)\n",
    "car_info # проверим, что новые признаки появились"
   ]
  },
  {
   "cell_type": "markdown",
   "id": "31e0167e-792d-4374-8146-0463e9678e08",
   "metadata": {},
   "source": [
    "## <center>`pandarallel` - ускоряем pandas в N раз</center>"
   ]
  },
  {
   "cell_type": "markdown",
   "id": "e25eb2f6-3a47-43bc-9abc-90411e8b6eac",
   "metadata": {},
   "source": [
    "Допустим мы написали функцию для генерации нового признака со сложной логикой, которая долго выполняется (сейчас заменим её паузой)"
   ]
  },
  {
   "cell_type": "code",
   "execution_count": 30,
   "id": "244c0653-a254-43b5-8893-776d6e0ed6ac",
   "metadata": {},
   "outputs": [],
   "source": [
    "# посчитаем количество лет эксплуатации автомобиля на 2022 год\n",
    "def get_car_age(x):\n",
    "    time.sleep(0.01)\n",
    "    return 2022 - x"
   ]
  },
  {
   "cell_type": "code",
   "execution_count": 31,
   "id": "07d75db2-5176-4ce2-b11c-986e4fc70c64",
   "metadata": {},
   "outputs": [
    {
     "name": "stderr",
     "output_type": "stream",
     "text": [
      "100%|███████████████████████████████████████| 2337/2337 [00:24<00:00, 97.16it/s]"
     ]
    },
    {
     "name": "stdout",
     "output_type": "stream",
     "text": [
      "CPU times: user 603 ms, sys: 72.7 ms, total: 676 ms\n",
      "Wall time: 24.1 s\n"
     ]
    },
    {
     "name": "stderr",
     "output_type": "stream",
     "text": [
      "\n"
     ]
    }
   ],
   "source": [
    "%%time\n",
    "car_info['car_age'] = car_info['year_to_start'].progress_apply(get_car_age)"
   ]
  },
  {
   "cell_type": "markdown",
   "id": "5baaacb4-3f72-42cf-a902-2c0861f3ecc9",
   "metadata": {},
   "source": [
    "А теперь давайте ускорим генерацию признака в `n` раз (`n` - количество ядер процессора), в нашем случае `n=4`."
   ]
  },
  {
   "cell_type": "code",
   "execution_count": 32,
   "id": "3d43b213-4a5e-4282-aac4-9a5deefd6fe9",
   "metadata": {},
   "outputs": [],
   "source": [
    "!pip install pandarallel -q"
   ]
  },
  {
   "cell_type": "code",
   "execution_count": 33,
   "id": "94d5e10c-a4f3-4c08-96db-fa79f073eb5d",
   "metadata": {},
   "outputs": [
    {
     "name": "stdout",
     "output_type": "stream",
     "text": [
      "INFO: Pandarallel will run on 4 workers.\n",
      "INFO: Pandarallel will use Memory file system to transfer data between the main process and workers.\n"
     ]
    }
   ],
   "source": [
    "# импортируем библиотеку pandarallel и инициализируем её\n",
    "from pandarallel import pandarallel\n",
    "pandarallel.initialize(progress_bar=True, nb_workers=4)"
   ]
  },
  {
   "cell_type": "code",
   "execution_count": 34,
   "id": "ef85e0cd-2691-4a8f-8d77-838a5386152a",
   "metadata": {},
   "outputs": [
    {
     "data": {
      "application/vnd.jupyter.widget-view+json": {
       "model_id": "5507d582b55746ca8f31ac4375a6d17c",
       "version_major": 2,
       "version_minor": 0
      },
      "text/plain": [
       "VBox(children=(HBox(children=(IntProgress(value=0, description='0.00%', max=585), Label(value='0 / 585'))), HB…"
      ]
     },
     "metadata": {},
     "output_type": "display_data"
    },
    {
     "name": "stdout",
     "output_type": "stream",
     "text": [
      "CPU times: user 238 ms, sys: 96.6 ms, total: 335 ms\n",
      "Wall time: 6.18 s\n"
     ]
    }
   ],
   "source": [
    "%%time\n",
    "# запускаем генерацию нашего признака в 4 потока, заменяя progress_apply() на parallel_apply()\n",
    "car_info['car_age'] = car_info['year_to_start'].parallel_apply(get_car_age)"
   ]
  },
  {
   "cell_type": "markdown",
   "id": "fddfe520-b28b-445b-acea-c221db196b07",
   "metadata": {},
   "source": [
    "С 23 сек, время уменьшилось до 6 сек."
   ]
  },
  {
   "cell_type": "markdown",
   "id": "807bea59-0e81-46ff-b0fc-2b31c8674aec",
   "metadata": {},
   "source": [
    "Библиотека `pandarallel` позволяет задействовать все доступные ядра процессора для параллельных вычислений. <br>\n",
    "**Важное замечание:** `pandarallel` может использоваться для простых чистых функций. Если функции содержат в себе вызовы других функций или использование сложных фреймворков, то не всегда их удасться распараллелить. Можно экспериментировать! <br>\n",
    "Также можно распараллелить и другие функции из `pandas`, полный список можно найти на <a href='https://nalepae.github.io/pandarallel/'> Github</a> проекта:"
   ]
  },
  {
   "cell_type": "markdown",
   "id": "8daf129f-2023-4d2f-a180-222ffcdbd210",
   "metadata": {},
   "source": [
    "<img src=\"https://habrastorage.org/r/w1560/webt/14/rx/cd/14rxcddfc9lms2sdubj9h7zgykm.png\">"
   ]
  }
 ],
 "metadata": {
  "kernelspec": {
   "display_name": "Python 3 (ipykernel)",
   "language": "python",
   "name": "python3"
  },
  "language_info": {
   "codemirror_mode": {
    "name": "ipython",
    "version": 3
   },
   "file_extension": ".py",
   "mimetype": "text/x-python",
   "name": "python",
   "nbconvert_exporter": "python",
   "pygments_lexer": "ipython3",
   "version": "3.10.12"
  }
 },
 "nbformat": 4,
 "nbformat_minor": 5
}
